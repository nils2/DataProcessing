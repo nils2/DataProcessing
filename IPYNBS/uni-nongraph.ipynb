{
 "cells": [
  {
   "cell_type": "code",
   "execution_count": 2,
   "metadata": {},
   "outputs": [],
   "source": [
    "# Load library\n",
    "import numpy as np\n",
    "import pandas as pd\n",
    "\n",
    "from bokeh.plotting import figure\n",
    "from bokeh.io import output_file, show\n",
    "from bokeh.models.widgets import DataTable, TableColumn\n",
    "from bokeh.models import ColumnDataSource\n",
    "\n",
    "import csv"
   ]
  },
  {
   "cell_type": "code",
   "execution_count": 6,
   "metadata": {},
   "outputs": [
    {
     "name": "stdout",
     "output_type": "stream",
     "text": [
      "['0', '1', '10', '16', '17', '2', '27', '3', '4', '5', '50', '6', '7', '8', '9']\n",
      "---------------------------------------------------------------------------------------------------------\n",
      "15\n"
     ]
    }
   ],
   "source": [
    "reader = pd.read_csv('../DATA/datagun.csv')\n",
    "amount_l = []\n",
    "for amount in reader['n_killed']:\n",
    "    amount = str(amount)\n",
    "    amount_l.append(amount)\n",
    "remove = list(set(amount_l))\n",
    "# sorts the cities in alphabetical order \n",
    "remove.sort()\n",
    "print(remove)\n",
    "print('---------------------------------------------------------------------------------------------------------')\n",
    "# prints how many different cities are in the list\n",
    "print(len(remove))"
   ]
  },
  {
   "cell_type": "code",
   "execution_count": 7,
   "metadata": {},
   "outputs": [
    {
     "name": "stdout",
     "output_type": "stream",
     "text": [
      "[('0', 180484), ('1', 45561), ('2', 4342), ('3', 560), ('4', 119), ('5', 34), ('6', 8), ('8', 5), ('9', 3), ('7', 1), ('10', 1), ('16', 1), ('50', 1), ('27', 1), ('17', 1)]\n"
     ]
    }
   ],
   "source": [
    "from collections import Counter\n",
    "# used a shortened dataset, replace 'stage3test.csv' for the big dataset\n",
    "reader = pd.read_csv('../DATA/datagun.csv')\n",
    "amount_k = []\n",
    "# appends all the cities in dataset to list\n",
    "for amount in reader['n_killed']:\n",
    "    amount = str(amount)\n",
    "    amount_k.append(amount)\n",
    "cnt = Counter(amount_k)\n",
    "# change the value for how many cities you want in your result\n",
    "print(cnt.most_common(23))"
   ]
  },
  {
   "cell_type": "code",
   "execution_count": 8,
   "metadata": {},
   "outputs": [],
   "source": [
    "output_file(\"../HTML/data_table-killed.html\")\n",
    "\n",
    "data = dict(\n",
    "        peeps=['Count', 'Proportion', 'Percent'],\n",
    "        zero=['180484', '0,7809542268', '78.09542268%'],\n",
    "        one=['45561', '0,197142447', '19.7142447%'],\n",
    "        two=['4342', '0,018787834', '1.8787834%'],\n",
    "        three=['560', '0,00242313', '0.242313%'],\n",
    "        four=['119', '0,000514913', '0.0514913%'],\n",
    "        five=['24', '0,000103848', '0.0103848%'],\n",
    "        six=['8', '0,000034616', '0.0034616%'],\n",
    "        seven=['1', '0,000004327', '0.0004327%'],\n",
    "        eight=['5', '0,000021635', '0.0021635%'],\n",
    "        nein=['3',  '0,000012981', '0.0012981%'],\n",
    "        ten=['1', '0,000004327', '0.0004327%'],\n",
    "        sixten=['1', '0,000004327', '0.0004327%'],\n",
    "        seventen=['1', '0,000004327', '0.0004327%'],\n",
    "        seventwoten=['1', '0,000004327', '0.0004327%'],\n",
    "        fiveten=['1', '0,000004327', '0.0004327%'],\n",
    "        total=['231122', '1,00', '100%'],\n",
    "    )\n",
    "source = ColumnDataSource(data)\n",
    "\n",
    "columns = [\n",
    "        TableColumn(field=\"peeps\", title=\"Occurence of people killed\"),\n",
    "        TableColumn(field=\"zero\", title=\"0\"),\n",
    "        TableColumn(field=\"one\", title=\"1\"),\n",
    "        TableColumn(field=\"two\", title=\"2\"),\n",
    "        TableColumn(field=\"three\", title=\"3\"),\n",
    "        TableColumn(field=\"four\", title=\"4\"),\n",
    "        TableColumn(field=\"five\", title=\"5\"),\n",
    "        TableColumn(field=\"six\", title=\"6\"),\n",
    "        TableColumn(field=\"seven\", title=\"7\"),\n",
    "        TableColumn(field=\"eight\", title=\"8\"),\n",
    "        TableColumn(field=\"nein\", title=\"9\"),\n",
    "        TableColumn(field=\"ten\", title=\"10\"),\n",
    "        TableColumn(field=\"sixten\", title=\"16\"),\n",
    "        TableColumn(field=\"seventen\", title=\"17\"),\n",
    "        TableColumn(field=\"seventwoten\", title=\"27\"),\n",
    "        TableColumn(field=\"fiveten\", title=\"50\"),\n",
    "        TableColumn(field=\"total\", title=\"Total\"),\n",
    "    ]\n",
    "data_table = DataTable(source=source, columns=columns, width=2500, height=500)\n",
    "\n",
    "show(data_table)\n"
   ]
  },
  {
   "cell_type": "code",
   "execution_count": 5,
   "metadata": {},
   "outputs": [],
   "source": [
    "output_file(\"../HTML/data_table-injured.html\")\n",
    "\n",
    "data = dict(\n",
    "        peeps=['Count', 'Proportion', 'Percent'],\n",
    "        zero=['137511', '0,595010097', '59.5010097%'],\n",
    "        one=['79248', '0,342906096', '34.2906096%'],\n",
    "        two=['10971', '0,047471517', '4.7471517%'],\n",
    "        three=['2360', '0,01021172', '1.021172%'],\n",
    "        four=['640', '0,00276928', '0.276928%'],\n",
    "        five=['212', '0,000917324', '0.0917324%'],\n",
    "        six=['80', '0,00034616', '0.034616%'],\n",
    "        seven=['45', '0,000194715', '0.0194715%'],\n",
    "        eight=['16', '0,000069232', '0.0069232%'],\n",
    "        nein=['11', '0,000047597', '0.0047597%'],\n",
    "        ten=['6', '0,000025962', '0.0025962%'],\n",
    "        eleven=['4', '0,000017308', '0.0017308%'],\n",
    "        twelve=['3', '0,000012981', '0.0012981%'],\n",
    "        thirten=['1', '0,000004327', '0.0004327%'],\n",
    "        fourten=['3', '0,000012981', '0.0012981%'],\n",
    "        fiveten=['2', '0,000008653', '0.0008653%'],\n",
    "        sixten=['1', '0,000004327', '0.0004327%'],\n",
    "        seventen=['2', '0,000008653', '0.0008653%'],\n",
    "        eightten=['1', '0,000004327', '0.0004327%'],\n",
    "        neinten=['2', '0,000008653', '0.0008653%'],\n",
    "        twoten=['1', '0,000004327', '0.0004327%'],\n",
    "        fivetwoten=['1', '0,000004327', '0.0004327%'],\n",
    "        fivetenthree=['1', '0,000004327', '0.0004327%'],\n",
    "        total=['231122', '1,00', '100%'],\n",
    "    )\n",
    "source = ColumnDataSource(data)\n",
    "\n",
    "columns = [\n",
    "        TableColumn(field=\"peeps\", title=\"Occurence of people killed\"),\n",
    "        TableColumn(field=\"zero\", title=\"0\"),\n",
    "        TableColumn(field=\"one\", title=\"1\"),\n",
    "        TableColumn(field=\"two\", title=\"2\"),\n",
    "        TableColumn(field=\"three\", title=\"3\"),\n",
    "        TableColumn(field=\"four\", title=\"4\"),\n",
    "        TableColumn(field=\"five\", title=\"5\"),\n",
    "        TableColumn(field=\"six\", title=\"6\"),\n",
    "        TableColumn(field=\"seven\", title=\"7\"),\n",
    "        TableColumn(field=\"eight\", title=\"8\"),\n",
    "        TableColumn(field=\"nein\", title=\"9\"),\n",
    "        TableColumn(field=\"ten\", title=\"10\"),\n",
    "        TableColumn(field=\"eleven\", title=\"11\"),\n",
    "        TableColumn(field=\"twelve\", title=\"12\"),\n",
    "        TableColumn(field=\"thirten\", title=\"13\"),\n",
    "        TableColumn(field=\"fourten\", title=\"14\"),\n",
    "        TableColumn(field=\"fiveten\", title=\"15\"),\n",
    "        TableColumn(field=\"sixten\", title=\"16\"),\n",
    "        TableColumn(field=\"seventen\", title=\"17\"),\n",
    "        TableColumn(field=\"eightten\", title=\"18\"),\n",
    "        TableColumn(field=\"neinten\", title=\"19\"),\n",
    "        TableColumn(field=\"twoten\", title=\"20\"),\n",
    "        TableColumn(field=\"fivetwoten\", title=\"25\"),\n",
    "        TableColumn(field=\"fivetenthree\", title=\"53\"),\n",
    "        TableColumn(field=\"total\", title=\"Total\"),\n",
    "    ]\n",
    "data_table = DataTable(source=source, columns=columns, width=2500, height=500)\n",
    "\n",
    "show(data_table)\n"
   ]
  }
 ],
 "metadata": {
  "kernelspec": {
   "display_name": "Python 3",
   "language": "python",
   "name": "python3"
  },
  "language_info": {
   "codemirror_mode": {
    "name": "ipython",
    "version": 3
   },
   "file_extension": ".py",
   "mimetype": "text/x-python",
   "name": "python",
   "nbconvert_exporter": "python",
   "pygments_lexer": "ipython3",
   "version": "3.6.5"
  }
 },
 "nbformat": 4,
 "nbformat_minor": 2
}
