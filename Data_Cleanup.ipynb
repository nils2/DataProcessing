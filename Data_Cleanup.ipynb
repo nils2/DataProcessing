{
 "cells": [
  {
   "cell_type": "markdown",
   "metadata": {},
   "source": [
    "This Notebook is used for the cleanup of our raw data"
   ]
  },
  {
   "cell_type": "code",
   "execution_count": 1,
   "metadata": {},
   "outputs": [],
   "source": [
    "# Used to depict the data set\n",
    "\n",
    "# import csv\n",
    "# with open('datagun.csv', 'r') as f:\n",
    "#     reader = csv.reader(f)\n",
    "#     for row in reader:\n",
    "#         print(row)"
   ]
  },
  {
   "cell_type": "code",
   "execution_count": 36,
   "metadata": {},
   "outputs": [
    {
     "name": "stdout",
     "output_type": "stream",
     "text": [
      "-----------------\n",
      "186701\n",
      "12900\n",
      "-----------------\n",
      "199601\n"
     ]
    }
   ],
   "source": [
    "# Used to count missing values for each column\n",
    "\n",
    "# import csv\n",
    "with open('datagun.csv', 'r') as f:\n",
    "    reader = csv.reader(f)\n",
    "    counter = 0\n",
    "    counter2 = 0\n",
    "    for row in reader:\n",
    "        if row[19] ==  '':\n",
    "            counter = counter + 1\n",
    "        else:\n",
    "            counter2 = counter2 + 1\n",
    "    print(\"-----------------\")\n",
    "    print(counter)\n",
    "    print(counter2)\n",
    "    print(\"-----------------\")\n",
    "    print(counter + counter2)"
   ]
  },
  {
   "cell_type": "code",
   "execution_count": null,
   "metadata": {},
   "outputs": [],
   "source": [
    "# Used to replace date table into 3 tables: day, month, year\n",
    "\n",
    "# import csv\n",
    "\n",
    "listname_accept = 'datagun.csv'\n",
    "\n",
    "with open('stage3.csv', 'r') as oldfile, open(listname_accept,'w') as cleaned:\n",
    "    accept_writer=csv.writer(cleaned) # create one csv writer object\n",
    "    initial_reader=csv.reader(oldfile)\n",
    "    for c,row in enumerate(initial_reader): # read through input csv\n",
    "        if c==0:                            # first row is the header\n",
    "            header=row[:]\n",
    "            del header[1]       # delete 'date'\n",
    "            header[1:1]=['day','month','year'] # insert these column names\n",
    "            accept_writer.writerow(header)                  # write column names to csv\n",
    "        else:                                               # for all other input rows, except the first\n",
    "            date_list=[i.strip() for i in row[1].split('/')] # split the date by slash\n",
    "            del row[1]                                             # delete original string date from row\n",
    "            row[1:1]=date_list                                  # insert new dates\n",
    "            accept_writer.writerow(row)\n",
    "            \n",
    "# the code above was used to clean the dataset"
   ]
  },
  {
   "cell_type": "code",
   "execution_count": null,
   "metadata": {},
   "outputs": [],
   "source": [
    "# Used to insert missing values\n",
    "\n",
    "# import csv\n",
    "\n",
    "listname_accept = 'datagun2.csv'\n",
    "\n",
    "with open('datagun.csv') as file, open(listname_accept, 'w') as cleaned:\n",
    "    new_file= csv.writer(cleaned)\n",
    "    old_file= csv.reader(file)\n",
    "    counter = 0\n",
    "    counter2 = 0\n",
    "    for c,row in enumerate(old_file):\n",
    "        if c==0:\n",
    "            header = row[:]\n",
    "            new_file.writerow(header)\n",
    "        else:\n",
    "            if row[19] == '':\n",
    "                counter = counter + 1\n",
    "                row[19]='Unknown'\n",
    "                new_file.writerow(row)\n",
    "            else:\n",
    "                counter2 = counter2 + 1\n",
    "                new_file.writerow(row)\n",
    "\n",
    "    print(counter)\n",
    "    print(counter2)\n",
    "# this code was used to check the correct amount of missing values was changed\n",
    "# and this code made a new file to alter it into"
   ]
  },
  {
   "cell_type": "code",
   "execution_count": 4,
   "metadata": {},
   "outputs": [],
   "source": [
    "# Used to drop columns\n",
    "import pandas as pd\n",
    "\n",
    "df = pd.read_csv('datagun.csv')\n",
    "\n",
    "df2= df.drop(['state_house_district', 'state_senate_district', 'congressional_district'], axis=1)\n",
    "\n",
    "df2.to_csv('datagun.csv', sep=',', index=False)"
   ]
  }
 ],
 "metadata": {
  "kernelspec": {
   "display_name": "Python 3",
   "language": "python",
   "name": "python3"
  },
  "language_info": {
   "codemirror_mode": {
    "name": "ipython",
    "version": 3
   },
   "file_extension": ".py",
   "mimetype": "text/x-python",
   "name": "python",
   "nbconvert_exporter": "python",
   "pygments_lexer": "ipython3",
   "version": "3.5.2"
  }
 },
 "nbformat": 4,
 "nbformat_minor": 2
}
