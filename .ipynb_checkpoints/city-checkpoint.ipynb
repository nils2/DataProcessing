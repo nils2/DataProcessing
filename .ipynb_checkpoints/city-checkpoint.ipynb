{
 "cells": [
  {
   "cell_type": "markdown",
   "metadata": {},
   "source": [
    "### Removes all the duplicate cities from the list. So you can see in how many different cities there is gunviolence."
   ]
  },
  {
   "cell_type": "code",
   "execution_count": 1,
   "metadata": {},
   "outputs": [
    {
     "name": "stdout",
     "output_type": "stream",
     "text": [
      "[\"['Akron']\", \"['Albuquerque']\", \"['Apache Junction']\", \"['Atlanta']\", \"['Auburn']\", \"['Aurora']\", \"['Bakersfield']\", \"['Baltimore']\", \"['Bean Station']\", \"['Belle Glade']\", \"['Brentwood']\", \"['Brooklyn']\", \"['Campbell']\", \"['Charenton']\", \"['Charlotte']\", \"['Chattanooga']\", \"['Chester']\", \"['Chicago (Englewood)']\", \"['Chicago']\", \"['Cincinnati']\", \"['Columbus']\", \"['Delanco']\", \"['Detroit']\", \"['Federal Way']\", \"['Flint']\", \"['Florence']\", \"['Fort Worth']\", \"['Galt']\", \"['Grand Rapids']\", \"['Greensboro']\", \"['Greensburg']\", \"['Greenville']\", \"['Greenwood']\", \"['Hampton']\", \"['Harvey']\", \"['Hawthorne']\", \"['High Point']\", \"['Houston']\", \"['Indianapolis']\", \"['Jackson']\", \"['Jamaica']\", \"['Jersey City']\", \"['Johnstown']\", \"['Kansas City']\", \"['Lagrange']\", \"['Lancaster']\", \"['Lexington']\", \"['Locust Valley']\", \"['Long Beach']\", \"['Lorain']\", \"['Los Angeles']\", \"['Los Banos']\", \"['Macon']\", \"['Manchester']\", \"['Mckeesport']\", \"['Memphis']\", \"['Merced (county)']\", \"['Meridian']\", \"['Midvale']\", \"['Milwaukee']\", \"['Modesto']\", \"['Mohawk']\", \"['Moultrie']\", \"['Nashville']\", \"['New Orleans']\", \"['New York (Manhattan)']\", \"['Newark']\", \"['Norfolk']\", \"['North Charleston']\", \"['Oberlin']\", \"['Oceanside']\", \"['Oklahoma City']\", \"['Orange (county)']\", \"['Palo Alto']\", \"['Philadelphia']\", \"['Phoenix']\", \"['Pompano Beach']\", \"['Pontiac']\", \"['Providence']\", \"['Rockford']\", \"['Sacramento']\", \"['Saginaw (county)']\", \"['Saint Louis']\", \"['San Francisco']\", \"['Santa Monica']\", \"['Shreveport']\", \"['Smithfield']\", \"['Springfield']\", \"['Stockton']\", \"['Three Rivers']\", \"['Trenton (Hamilton Township)']\", \"['Tulsa']\", \"['Vallejo']\", \"['Victoria']\", \"['Virginia Beach']\", \"['Washington']\", \"['Williston']\", \"['Wilmington']\", \"['York']\", \"['Yuba (county)']\", \"['city_or_county']\"]\n",
      "---------------------------------------------------------------------------------------------------------\n",
      "101\n"
     ]
    }
   ],
   "source": [
    "import csv\n",
    "# used a shortened dataset, replace 'stage3test.csv' for the big dataset\n",
    "with open('stage3test.csv', 'r', encoding=\"utf8\") as f:\n",
    "    reader = csv.reader(f)\n",
    "    city_l = []\n",
    "    # appends city to list and removes duplicates\n",
    "    for city in reader:\n",
    "        city = str(city)\n",
    "        city_l.append(city)\n",
    "        remove = list(set(city_l))\n",
    "        # sorts the cities in alphabetical order \n",
    "        remove.sort()\n",
    "    print(remove)\n",
    "    print('---------------------------------------------------------------------------------------------------------')\n",
    "    # prints how many different cities are in the list\n",
    "    print (len(remove))"
   ]
  },
  {
   "cell_type": "markdown",
   "metadata": {},
   "source": [
    "### Puts all the cities in a list and searches for the most common cities in the list. This way you can look at which  cities have the most gunviolence. "
   ]
  },
  {
   "cell_type": "code",
   "execution_count": 2,
   "metadata": {},
   "outputs": [
    {
     "name": "stdout",
     "output_type": "stream",
     "text": [
      "[\"['city_or_county']\", \"['Mckeesport']\", \"['Hawthorne']\", \"['Lorain']\", \"['Aurora']\", \"['Greensboro']\", \"['Tulsa']\", \"['Albuquerque']\", \"['New Orleans']\", \"['Brentwood']\", \"['Baltimore']\", \"['Chattanooga']\", \"['Saint Louis']\", \"['Charenton']\", \"['Washington']\", \"['Springfield']\", \"['Memphis']\", \"['Yuba (county)']\", \"['Chicago']\", \"['New Orleans']\", \"['Vallejo']\", \"['Wilmington']\", \"['Midvale']\", \"['Orange (county)']\", \"['Tulsa']\", \"['Grand Rapids']\", \"['Lancaster']\", \"['Macon']\", \"['Shreveport']\", \"['Moultrie']\", \"['Saginaw (county)']\", \"['Los Banos']\", \"['Indianapolis']\", \"['Jackson']\", \"['Kansas City']\", \"['Washington']\", \"['Oceanside']\", \"['Mohawk']\", \"['Modesto']\", \"['Galt']\", \"['Stockton']\", \"['Belle Glade']\", \"['Chicago']\", \"['Kansas City']\", \"['Brooklyn']\", \"['Merced (county)']\", \"['Auburn']\", \"['Greenwood']\", \"['New York (Manhattan)']\", \"['Long Beach']\", \"['Philadelphia']\", \"['Vallejo']\", \"['Phoenix']\", \"['Lexington']\", \"['Akron']\", \"['Federal Way']\", \"['Chicago (Englewood)']\", \"['Harvey']\", \"['Manchester']\", \"['Oberlin']\", \"['Williston']\", \"['Charlotte']\", \"['Chester']\", \"['Jackson']\", \"['Baltimore']\", \"['Newark']\", \"['Smithfield']\", \"['Palo Alto']\", \"['Johnstown']\", \"['Los Angeles']\", \"['Columbus']\", \"['Philadelphia']\", \"['Jersey City']\", \"['Apache Junction']\", \"['New Orleans']\", \"['Cincinnati']\", \"['Delanco']\", \"['Detroit']\", \"['Philadelphia']\", \"['Jamaica']\", \"['Victoria']\", \"['Memphis']\", \"['Detroit']\", \"['Chicago']\", \"['Bean Station']\", \"['Bakersfield']\", \"['Flint']\", \"['Hampton']\", \"['Memphis']\", \"['Chicago']\", \"['Atlanta']\", \"['Milwaukee']\", \"['Vallejo']\", \"['Indianapolis']\", \"['Virginia Beach']\", \"['Lagrange']\", \"['Santa Monica']\", \"['York']\", \"['Saint Louis']\", \"['Chicago']\", \"['High Point']\", \"['Providence']\", \"['Nashville']\", \"['Houston']\", \"['Chicago']\", \"['Chicago']\", \"['Norfolk']\", \"['Greenville']\", \"['Baltimore']\", \"['Providence']\", \"['Chattanooga']\", \"['Sacramento']\", \"['Kansas City']\", \"['New Orleans']\", \"['Virginia Beach']\", \"['Kansas City']\", \"['Chicago']\", \"['Three Rivers']\", \"['Chicago']\", \"['North Charleston']\", \"['Brooklyn']\", \"['Aurora']\", \"['Locust Valley']\", \"['Fort Worth']\", \"['Jersey City']\", \"['Chicago']\", \"['Pontiac']\", \"['Brooklyn']\", \"['Florence']\", \"['Chicago']\", \"['Meridian']\", \"['Stockton']\", \"['Pompano Beach']\", \"['Baltimore']\", \"['Rockford']\", \"['Charlotte']\", \"['San Francisco']\", \"['Greensburg']\", \"['Campbell']\", \"['Washington']\", \"['Oklahoma City']\", \"['Trenton (Hamilton Township)']\"]\n",
      "---------------------------------------------------------------------------------------------------------\n",
      "[(\"['Chicago']\", 11), (\"['Baltimore']\", 4), (\"['New Orleans']\", 4), (\"['Kansas City']\", 4), (\"['Brooklyn']\", 3), (\"['Washington']\", 3), (\"['Philadelphia']\", 3), (\"['Memphis']\", 3), (\"['Vallejo']\", 3), (\"['Jersey City']\", 2)]\n"
     ]
    }
   ],
   "source": [
    "import csv\n",
    "from collections import Counter\n",
    "# used a shortened dataset, replace 'stage3test.csv' for the big dataset\n",
    "with open('stage3test.csv', 'r', encoding=\"utf8\") as f:\n",
    "    reader = csv.reader(f)\n",
    "    common_l = []\n",
    "    # appends all the cities in dataset to list\n",
    "    for city in reader:\n",
    "        city = str(city)\n",
    "        common_l.append(city)\n",
    "    print(common_l)\n",
    "    print('---------------------------------------------------------------------------------------------------------')\n",
    "    \n",
    "    cnt = Counter(common_l)\n",
    "    # change the value for how many cities you want in your result\n",
    "    print(cnt.most_common(10))"
   ]
  },
  {
   "cell_type": "code",
   "execution_count": null,
   "metadata": {},
   "outputs": [],
   "source": []
  }
 ],
 "metadata": {
  "kernelspec": {
   "display_name": "Python 3",
   "language": "python",
   "name": "python3"
  },
  "language_info": {
   "codemirror_mode": {
    "name": "ipython",
    "version": 3
   },
   "file_extension": ".py",
   "mimetype": "text/x-python",
   "name": "python",
   "nbconvert_exporter": "python",
   "pygments_lexer": "ipython3",
   "version": "3.5.2"
  }
 },
 "nbformat": 4,
 "nbformat_minor": 2
}
