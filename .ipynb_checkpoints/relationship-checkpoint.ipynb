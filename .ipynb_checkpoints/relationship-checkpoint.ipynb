{
 "cells": [
  {
   "cell_type": "code",
   "execution_count": 2,
   "metadata": {},
   "outputs": [],
   "source": [
    "# Load library\n",
    "import numpy as np\n",
    "import pandas as pd\n",
    "from collections import Counter\n",
    "\n",
    "from bokeh.io import show, output_file\n",
    "from bokeh.plotting import figure\n",
    "\n",
    "import csv"
   ]
  },
  {
   "cell_type": "code",
   "execution_count": 4,
   "metadata": {},
   "outputs": [
    {
     "name": "stdout",
     "output_type": "stream",
     "text": [
      "Counter({'Unknown': 186701, '1::Significant others - current or former': 2155, '1::Family': 2134, '1::Armed Robbery': 1563, '1::Armed Robbery||2::Armed Robbery': 914, '1::Friends': 732, '1::Aquaintance': 572, '0::Significant others - current or former': 355, '1::Armed Robbery||2::Armed Robbery||3::Armed Robbery': 327, '1::Neighbor': 325, '0::Armed Robbery': 315, '2::Family': 290, '0::Family': 258, '2::Significant others - current or former': 189, '0::Neighbor': 180, '2::Armed Robbery': 160, '0::Armed Robbery||1::Armed Robbery': 152, '1::Home Invasion - Perp Does Not Know Victim': 148, '2::Armed Robbery||3::Armed Robbery': 123, '1::Home Invasion - Perp Does Not Know Victim||2::Home Invasion - Perp Does Not Know Victim': 97, '3::Family': 78, '1::Armed Robbery||2::Armed Robbery||3::Armed Robbery||4::Armed Robbery': 78, '1::Home Invasion - Perp Knows Victim': 77, '0::Home Invasion - Perp Does Not Know Victim': 74, '1::Co-worker': 74, '1::Gang vs Gang': 69, '0::Armed Robbery||1::Armed Robbery||2::Armed Robbery': 62, '2::Aquaintance': 60, '0::Home Invasion - Perp Does Not Know Victim||1::Home Invasion - Perp Does Not Know Victim': 55, '0::Friends': 53, '0::Aquaintance': 53, '2::Armed Robbery||3::Armed Robbery||4::Armed Robbery': 47, '2::Neighbor': 44, '1::Home Invasion - Perp Does Not Know Victim||2::Home Invasion - Perp Does Not Know Victim||3::Home Invasion - Perp Does Not Know Victim': 41, '0::Home Invasion - Perp Knows Victim': 39, '0::Home Invasion - Perp Does Not Know Victim||1::Home Invasion - Perp Does Not Know Victim||2::Home Invasion - Perp Does Not Know Victim': 38, '2::Friends': 37, '3::Significant others - current or former': 32, '1::Gang vs Gang||2::Gang vs Gang': 32, '0::Armed Robbery||1::Armed Robbery||2::Armed Robbery||3::Armed Robbery': 27, '1::Aquaintance||2::Aquaintance': 23, '1::Family||2::Family': 22, '1::Home Invasion - Perp Knows Victim||2::Home Invasion - Perp Knows Victim': 22, '0::Family||1::Family': 20, '4::Family': 19, '2::Gang vs Gang': 18, '1::Gang vs Gang||2::Gang vs Gang||3::Gang vs Gang': 18, '3::Armed Robbery': 18, '0::Co-worker': 18, '0::Home Invasion - Perp Does Not Know Victim||1::Home Invasion - Perp Does Not Know Victim||2::Home Invasion - Perp Does Not Know Victim||3::Home Invasion - Perp Does Not Know Victim': 18, '1::Home Invasion - Perp Knows Victim||2::Home Invasion - Perp Knows Victim||3::Home Invasion - Perp Knows Victim': 17, '3::Armed Robbery||4::Armed Robbery': 16, '1::Home Invasion - Perp Does Not Know Victim||2::Home Invasion - Perp Does Not Know Victim||3::Home Invasion - Perp Does Not Know Victim||4::Home Invasion - Perp Does Not Know Victim': 16, '1::Armed Robbery||2::Armed Robbery||3::Armed Robbery||4::Armed Robbery||5::Armed Robbery': 15, '0::Gang vs Gang': 15, '2::Armed Robbery||3::Armed Robbery||4::Armed Robbery||5::Armed Robbery': 14, '2::Home Invasion - Perp Does Not Know Victim||3::Home Invasion - Perp Does Not Know Victim': 13, '0::Home Invasion - Perp Knows Victim||1::Home Invasion - Perp Knows Victim||2::Home Invasion - Perp Knows Victim': 13, '0::Home Invasion - Perp Knows Victim||1::Home Invasion - Perp Knows Victim': 13, '1::Friends||2::Friends': 13, '2::Home Invasion - Perp Knows Victim': 12, '2::Home Invasion - Perp Does Not Know Victim': 12, '3::Armed Robbery||4::Armed Robbery||5::Armed Robbery': 11, '2::Home Invasion - Perp Does Not Know Victim||3::Home Invasion - Perp Does Not Know Victim||4::Home Invasion - Perp Does Not Know Victim': 11, '4::Significant others - current or former': 11, '1::Drive by - Random victims': 10, '3::Neighbor': 10, '3::Aquaintance': 9, '0::Gang vs Gang||1::Gang vs Gang||2::Gang vs Gang': 9, '2::Co-worker': 9, '0::Gang vs Gang||1::Gang vs Gang': 9, '2::Gang vs Gang||3::Gang vs Gang': 9, '5::Family': 8, '2::Gang vs Gang||3::Gang vs Gang||4::Gang vs Gang': 8, '0::Armed Robbery||2::Armed Robbery': 8, '0::Aquaintance||1::Aquaintance': 8, '1:Family': 7, '1::Gang vs Gang||2::Gang vs Gang||3::Gang vs Gang||4::Gang vs Gang': 7, '2::Home Invasion - Perp Does Not Know Victim||3::Home Invasion - Perp Does Not Know Victim||4::Home Invasion - Perp Does Not Know Victim||5::Home Invasion - Perp Does Not Know Victim': 7, '3::Home Invasion - Perp Does Not Know Victim||4::Home Invasion - Perp Does Not Know Victim': 7, '0::Neighbor||1::Neighbor': 7, '1::Neighbor||2::Neighbor': 7, '1::Aquaintance||2::Aquaintance||3::Aquaintance': 7, '1:Significant others - current or former': 6, '2::Home Invasion - Perp Knows Victim||3::Home Invasion - Perp Knows Victim': 6, '0::Gang vs Gang||1::Gang vs Gang||2::Gang vs Gang||3::Gang vs Gang': 6, '1::Home Invasion - Perp Does Not Know Victim||2::Home Invasion - Perp Does Not Know Victim||3::Home Invasion - Perp Does Not Know Victim||4::Home Invasion - Perp Does Not Know Victim||5::Home Invasion - Perp Does Not Know Victim': 6, '2::Aquaintance||3::Aquaintance': 6, '1::Home Invasion - Perp Knows Victim||2::Home Invasion - Perp Knows Victim||3::Home Invasion - Perp Knows Victim||4::Home Invasion - Perp Knows Victim': 5, '2::Drive by - Random victims': 5, '3::Home Invasion - Perp Does Not Know Victim': 5, '3::Friends': 5, '1::Armed Robbery||2::Armed Robbery||3::Armed Robbery||4::Armed Robbery||5::Armed Robbery||6::Armed Robbery': 5, '3::Gang vs Gang||4::Gang vs Gang': 5, '3::Gang vs Gang': 5, '4::Armed Robbery||5::Armed Robbery': 5, '4::Gang vs Gang': 4, '0::Home Invasion - Perp Does Not Know Victim||1::Home Invasion - Perp Does Not Know Victim||2::Home Invasion - Perp Does Not Know Victim||3::Home Invasion - Perp Does Not Know Victim||4::Home Invasion - Perp Does Not Know Victim': 4, '0::Home Invasion - Perp Knows Victim||1::Home Invasion - Perp Knows Victim||2::Home Invasion - Perp Knows Victim||3::Home Invasion - Perp Knows Victim': 4, '1::Family||2::Family||3::Family': 4, '0::Friends||1::Friends': 4, '0::Armed Robbery||2::Armed Robbery||3::Armed Robbery': 4, '0::Armed Robbery||1::Armed Robbery||2::Armed Robbery||3::Armed Robbery||4::Armed Robbery': 4, '1:Friends': 3, '3::Home Invasion - Perp Does Not Know Victim||4::Home Invasion - Perp Does Not Know Victim||5::Home Invasion - Perp Does Not Know Victim': 3, '0::Drive by - Random victims': 3, '2::Gang vs Gang||3::Gang vs Gang||4::Gang vs Gang||5::Gang vs Gang': 3, '2::Armed Robbery||3::Armed Robbery||4::Armed Robbery||5::Armed Robbery||6::Armed Robbery': 3, '4::Friends': 3, '0::Significant others - current or former||1::Significant others - current or former': 3, '1::Family||2::Family||3::Family||4::Family': 2, '2:Family': 2, '1:Armed Robbery': 2, '1::Armed Robbery||3::Armed Robbery': 2, '1::Friends||2::Friends||3::Friends': 2, '4::Aquaintance': 2, '4::Neighbor': 2, '4::Armed Robbery||5::Armed Robbery||6::Armed Robbery': 2, '2::Home Invasion - Perp Knows Victim||3::Home Invasion - Perp Knows Victim||4::Home Invasion - Perp Knows Victim||5::Home Invasion - Perp Knows Victim': 2, '1::Home Invasion - Perp Knows Victim||2::Home Invasion - Perp Does Not Know Victim': 2, '4::Mass shooting - Perp Knows Victims': 2, '2::Drive by - Random victims||3::Drive by - Random victims': 2, '0::Home Invasion - Perp Knows Victim||1::Home Invasion - Perp Does Not Know Victim||2::Home Invasion - Perp Does Not Know Victim': 2, '4::Gang vs Gang||5::Gang vs Gang': 2, '6::Family': 2, '1::Armed Robbery||3::Armed Robbery||4::Armed Robbery': 2, '3::Home Invasion - Perp Knows Victim||4::Home Invasion - Perp Knows Victim': 2, '2::Home Invasion - Perp Knows Victim||3::Home Invasion - Perp Knows Victim||4::Home Invasion - Perp Knows Victim': 2, '1::Drive by - Random victims||2::Drive by - Random victims': 2, '0::Armed Robbery||1::Armed Robbery||4::Armed Robbery': 2, '2::Gang vs Gang||3::Gang vs Gang||4::Gang vs Gang||5::Gang vs Gang||6::Gang vs Gang||7::Gang vs Gang||8::Gang vs Gang': 2, '5::Significant others - current or former': 2, '0::Armed Robbery||1::Armed Robbery||3::Armed Robbery': 2, '8::Family': 2, '2::Family||3::Family': 2, '3::Co-worker': 2, '0::Home Invasion - Perp Does Not Know Victim||2::Home Invasion - Perp Does Not Know Victim': 2, '4::Armed Robbery': 2, '0::Home Invasion - Perp Knows Victim||1::Home Invasion - Perp Knows Victim||2::Home Invasion - Perp Knows Victim||3::Home Invasion - Perp Knows Victim||4::Home Invasion - Perp Knows Victim': 2, '4:Family': 1, '1:Armed Robbery|2:Armed Robbery|3:Armed Robbery': 1, '1:Aquaintance': 1, '0:Armed Robbery': 1, '2:Aquaintance': 1, '2:Friends': 1, '2:Armed Robbery': 1, '2:Significant others - current or former': 1, '1:Armed Robbery|2:Armed Robbery|3:Armed Robbery|4:Armed Robbery': 1, '1:Neighbor': 1, '4::Gang vs Gang||5::Gang vs Gang||6::Gang vs Gang': 1, '2::Friends||3::Friends': 1, '2::Friends||3::Friends||4::Friends': 1, '4::Gang vs Gang||5::Gang vs Gang||6::Gang vs Gang||7::Gang vs Gang||8::Gang vs Gang||9::Gang vs Gang||10::Gang vs Gang': 1, '7::Family': 1, '0::Drive by - Random victims||1::Drive by - Random victims||2::Drive by - Random victims': 1, '0::Friends||1::Friends||2::Friends||3::Friends||4::Friends': 1, '7::Mass shooting - Random victims': 1, '2::Home Invasion - Perp Knows Victim||3::Home Invasion - Perp Does Not Know Victim||4::Home Invasion - Perp Does Not Know Victim||5::Home Invasion - Perp Does Not Know Victim': 1, '0::Home Invasion - Perp Does Not Know Victim||1::Home Invasion - Perp Does Not Know Victim||2::Home Invasion - Perp Does Not Know Victim||3::Home Invasion - Perp Does Not Know Victim||4::Home Invasion - Perp Does Not Know Victim||5::Home Invasion - Perp Does Not Know Victim||6::Home Invasion - Perp Does Not Know Victim||7::Home Invasion - Perp Does Not Know Victim': 1, '3::Home Invasion - Perp Knows Victim': 1, '4::Home Invasion - Perp Does Not Know Victim': 1, '3::Gang vs Gang||4::Gang vs Gang||5::Gang vs Gang||6::Gang vs Gang||7::Gang vs Gang||8::Gang vs Gang||9::Gang vs Gang||10::Gang vs Gang': 1, '1::Drive by - Random victims||2::Drive by - Random victims||3::Drive by - Random victims||4::Drive by - Random victims': 1, '0::Gang vs Gang||1::Gang vs Gang||2::Gang vs Gang||3::Gang vs Gang||4::Gang vs Gang': 1, '0::Armed Robbery||4::Armed Robbery||5::Armed Robbery': 1, '0::Friends||1::Friends||2::Friends||3::Friends': 1, '4::Mass shooting - Perp Knows Victims||5::Mass shooting - Perp Knows Victims||6::Mass shooting - Perp Knows Victims': 1, '4::Mass shooting - Random victims||5::Mass shooting - Random victims': 1, '2::Home Invasion - Perp Knows Victim||3::Home Invasion - Perp Knows Victim||4::Home Invasion - Perp Does Not Know Victim||5::Home Invasion - Perp Does Not Know Victim||6::Home Invasion - Perp Does Not Know Victim': 1, '0::Home Invasion - Perp Does Not Know Victim||1::Home Invasion - Perp Does Not Know Victim||3::Home Invasion - Perp Does Not Know Victim': 1, '0::Armed Robbery||1::Armed Robbery||2::Armed Robbery||3::Armed Robbery||5::Armed Robbery': 1, '3::Armed Robbery||4::Armed Robbery||5::Armed Robbery||6::Armed Robbery||7::Armed Robbery': 1, '0::Co-worker||1::Co-worker': 1, '4::Armed Robbery||5::Armed Robbery||6::Armed Robbery||7::Armed Robbery||8::Armed Robbery||9::Armed Robbery||10::Armed Robbery||11::Armed Robbery': 1, '1::Armed Robbery||2::Armed Robbery||3::Armed Robbery||4::Armed Robbery||5::Armed Robbery||6::Armed Robbery||8::Armed Robbery||9::Armed Robbery||10::Armed Robbery': 1, '1::Armed Robbery||3::Armed Robbery||4::Armed Robbery||5::Armed Robbery': 1, '4::Home Invasion - Perp Knows Victim||5::Home Invasion - Perp Knows Victim': 1, '3::Neighbor||4::Neighbor': 1, '1::Gang vs Gang||2::Gang vs Gang||3::Gang vs Gang||4::Gang vs Gang||5::Gang vs Gang': 1, '1::Co-worker||2::Co-worker||3::Co-worker': 1, '2::Gang vs Gang||3::Gang vs Gang||4::Gang vs Gang||5::Gang vs Gang||6::Gang vs Gang': 1, '1::Aquaintance||2::Aquaintance||3::Aquaintance||4::Aquaintance': 1, '0::Friends||1::Friends||2::Friends': 1, '0::Home Invasion - Perp Does Not Know Victim||1::Home Invasion - Perp Does Not Know Victim||3::Home Invasion - Perp Does Not Know Victim||4::Home Invasion - Perp Does Not Know Victim||5::Home Invasion - Perp Does Not Know Victim': 1, '0::Armed Robbery||3::Armed Robbery': 1, '12::Gang vs Gang||13::Gang vs Gang||14::Gang vs Gang||15::Gang vs Gang||16::Gang vs Gang': 1, '4::Home Invasion - Perp Does Not Know Victim||5::Home Invasion - Perp Does Not Know Victim||6::Home Invasion - Perp Does Not Know Victim': 1, '6::Significant others - current or former': 1, '1::Significant others - current or former||2::Significant others - current or former': 1, '4::Co-worker': 1, '0::Home Invasion - Perp Knows Victim||1::Home Invasion - Perp Knows Victim||2::Home Invasion - Perp Knows Victim||3::Home Invasion - Perp Knows Victim||4::Home Invasion - Perp Knows Victim||5::Home Invasion - Perp Knows Victim': 1, '3::Family||4::Family||5::Family': 1, '2::Neighbor||3::Neighbor': 1, '5::Mass shooting - Perp Knows Victims||6::Mass shooting - Perp Knows Victims': 1, '6::Aquaintance||7::Aquaintance': 1, '1::Home Invasion - Perp Does Not Know Victim||2::Home Invasion - Perp Does Not Know Victim||3::Home Invasion - Perp Does Not Know Victim||4::Home Invasion - Perp Does Not Know Victim||5::Home Invasion - Perp Does Not Know Victim||6::Home Invasion - Perp Does Not Know Victim': 1, '0::Neighbor||1::Neighbor||2::Neighbor': 1, '2::Home Invasion - Perp Does Not Know Victim||3::Home Invasion - Perp Does Not Know Victim||4::Home Invasion - Perp Does Not Know Victim||5::Home Invasion - Perp Does Not Know Victim||6::Home Invasion - Perp Does Not Know Victim': 1, '3::Gang vs Gang||4::Gang vs Gang||5::Gang vs Gang': 1, '6::Armed Robbery||7::Armed Robbery': 1, '8::Home Invasion - Perp Does Not Know Victim||9::Home Invasion - Perp Does Not Know Victim||10::Home Invasion - Perp Does Not Know Victim||11::Home Invasion - Perp Does Not Know Victim': 1, '2::Armed Robbery||3::Armed Robbery||4::Armed Robbery||5::Armed Robbery||6::Armed Robbery||7::Armed Robbery': 1, '5::Aquaintance': 1, '0::Aquaintance||1::Aquaintance||2::Aquaintance': 1, '3::Home Invasion - Perp Does Not Know Victim||4::Home Invasion - Perp Does Not Know Victim||5::Home Invasion - Perp Does Not Know Victim||6::Home Invasion - Perp Does Not Know Victim': 1, '0::Home Invasion - Perp Does Not Know Victim||5::Home Invasion - Perp Does Not Know Victim': 1, '1::Home Invasion - Perp Knows Victim||2::Home Invasion - Perp Knows Victim||3::Home Invasion - Perp Knows Victim||4::Home Invasion - Perp Knows Victim||5::Home Invasion - Perp Knows Victim': 1, '4::Gang vs Gang||5::Gang vs Gang||6::Gang vs Gang||7::Gang vs Gang||8::Gang vs Gang': 1, '11::Mass shooting - Random victims': 1, '2::Home Invasion - Perp Knows Victim||3::Home Invasion - Perp Knows Victim||4::Home Invasion - Perp Knows Victim||5::Home Invasion - Perp Knows Victim||6::Home Invasion - Perp Knows Victim||7::Home Invasion - Perp Knows Victim': 1, '0::Family||1::Family||2::Family': 1, '5::Mass shooting - Perp Knows Victims': 1, '5::Co-worker': 1, '0::Neighbor||3::Neighbor': 1, '4::Armed Robbery||5::Armed Robbery||6::Armed Robbery||7::Armed Robbery': 1, '4::Mass shooting - Random victims': 1, '0::Home Invasion - Perp Does Not Know Victim||1::Home Invasion - Perp Does Not Know Victim||2::Home Invasion - Perp Does Not Know Victim||3::Home Invasion - Perp Does Not Know Victim||4::Home Invasion - Perp Does Not Know Victim||5::Home Invasion - Perp Does Not Know Victim||6::Home Invasion - Perp Does Not Know Victim': 1, '5::Gang vs Gang': 1, '3::Gang vs Gang||4::Gang vs Gang||5::Gang vs Gang||6::Gang vs Gang||7::Gang vs Gang||8::Gang vs Gang||9::Gang vs Gang': 1, '0::Gang vs Gang||1::Gang vs Gang||2::Gang vs Gang||3::Gang vs Gang||4::Gang vs Gang||5::Gang vs Gang||6::Gang vs Gang||7::Gang vs Gang||8::Gang vs Gang||9::Gang vs Gang||10::Gang vs Gang||11::Gang vs Gang': 1, '1::Co-worker||2::Co-worker': 1, '1::Gang vs Gang||2::Gang vs Gang||3::Gang vs Gang||4::Gang vs Gang||5::Gang vs Gang||6::Gang vs Gang||7::Gang vs Gang||8::Gang vs Gang||9::Gang vs Gang': 1, '1::Armed Robbery||2::Armed Robbery||3::Armed Robbery||4::Armed Robbery||5::Armed Robbery||6::Armed Robbery||7::Armed Robbery': 1, '3::Armed Robbery||4::Armed Robbery||5::Armed Robbery||6::Armed Robbery': 1, '0::Armed Robbery||1::Armed Robbery||2::Armed Robbery||3::Armed Robbery||4::Armed Robbery||5::Armed Robbery||6::Armed Robbery': 1, '1::Home Invasion - Perp Does Not Know Victim||2::Home Invasion - Perp Does Not Know Victim||3::Home Invasion - Perp Does Not Know Victim||4::Home Invasion - Perp Does Not Know Victim||5::Home Invasion - Perp Does Not Know Victim||6::Home Invasion - Perp Does Not Know Victim||7::Home Invasion - Perp Does Not Know Victim||8::Home Invasion - Perp Does Not Know Victim': 1})\n"
     ]
    }
   ],
   "source": [
    "df = pd.read_csv('datagun.csv', sep=',')\n",
    "\n",
    "amount_k = []\n",
    "\n",
    "for amount in df['participant_relationship']:\n",
    "    amount = str(amount)\n",
    "    amount_k.append(amount)\n",
    "cnt = Counter(amount_k)\n",
    "\n",
    "print(cnt)"
   ]
  },
  {
   "cell_type": "code",
   "execution_count": null,
   "metadata": {},
   "outputs": [],
   "source": [
    "df = pd.read_csv(\"datagun.csv\", sep=',')\n",
    "\n",
    "gang = df['participant_relationship'].str.count(\"Gang vs Gang\").sum()\n",
    "friends = df['participant_relationship'].str.count(\"Friends\").sum()\n",
    "unknown = df['participant_relationship'].str.count(\"Unknown\").sum()\n",
    "lovers = df['participant_relationship'].str.count(\"Significant others\").sum()\n",
    "family = df['participant_relationship'].str.count(\"Family\").sum()\n",
    "\n",
    "output_file(\"bars-relationship.html\")\n",
    "\n",
    "guns = ['Unknown', 'Gang', 'Friends', 'Family', 'Lovers/Ex']\n",
    "\n",
    "p = figure(x_range=guns, plot_height=250, title=\"Relationship people involved\",\n",
    "           toolbar_location=None, tools=\"\")\n",
    "\n",
    "p.vbar(x=guns, top=[unknown, gang, friends, family, lovers], width=0.9)\n",
    "\n",
    "p.xgrid.grid_line_color = None\n",
    "p.y_range.start = 0\n",
    "\n",
    "show(p)"
   ]
  }
 ],
 "metadata": {
  "kernelspec": {
   "display_name": "Python 3",
   "language": "python",
   "name": "python3"
  },
  "language_info": {
   "codemirror_mode": {
    "name": "ipython",
    "version": 3
   },
   "file_extension": ".py",
   "mimetype": "text/x-python",
   "name": "python",
   "nbconvert_exporter": "python",
   "pygments_lexer": "ipython3",
   "version": "3.6.5"
  }
 },
 "nbformat": 4,
 "nbformat_minor": 2
}
