{
 "cells": [
  {
   "cell_type": "code",
   "execution_count": 2,
   "metadata": {},
   "outputs": [],
   "source": [
    "# Load library\n",
    "import numpy as np\n",
    "import pandas as pd\n",
    "\n",
    "from bokeh.plotting import figure\n",
    "from bokeh.io import output_file, show\n",
    "from bokeh.models.widgets import DataTable, TableColumn\n",
    "from bokeh.models import ColumnDataSource\n",
    "\n",
    "import csv"
   ]
  },
  {
   "cell_type": "code",
   "execution_count": 3,
   "metadata": {},
   "outputs": [
    {
     "name": "stdout",
     "output_type": "stream",
     "text": [
      "['0', '1', '10', '11', '12', '13', '14', '15', '16', '17', '19', '2', '20', '25', '3', '4', '5', '53', '6', '7', '8', '9']\n",
      "---------------------------------------------------------------------------------------------------------\n",
      "22\n"
     ]
    }
   ],
   "source": [
    "reader = pd.read_csv('datagun.csv')\n",
    "amount_l = []\n",
    "for amount in reader['n_injured']:\n",
    "    amount = str(amount)\n",
    "    amount_l.append(amount)\n",
    "remove = list(set(amount_l))\n",
    "# sorts the cities in alphabetical order \n",
    "remove.sort()\n",
    "print(remove)\n",
    "print('---------------------------------------------------------------------------------------------------------')\n",
    "# prints how many different cities are in the list\n",
    "print(len(remove))"
   ]
  },
  {
   "cell_type": "code",
   "execution_count": 5,
   "metadata": {},
   "outputs": [
    {
     "name": "stdout",
     "output_type": "stream",
     "text": [
      "[('0', 117156), ('1', 69721), ('2', 9722), ('3', 2078), ('4', 570), ('5', 193), ('6', 72), ('7', 38), ('8', 15), ('9', 10), ('10', 5), ('12', 3), ('11', 3), ('14', 3), ('15', 2), ('17', 2), ('19', 2), ('16', 1), ('53', 1), ('13', 1), ('25', 1), ('20', 1)]\n"
     ]
    }
   ],
   "source": [
    "from collections import Counter\n",
    "# used a shortened dataset, replace 'stage3test.csv' for the big dataset\n",
    "reader = pd.read_csv('datagun.csv')\n",
    "amount_k = []\n",
    "# appends all the cities in dataset to list\n",
    "for amount in reader['n_injured']:\n",
    "    amount = str(amount)\n",
    "    amount_k.append(amount)\n",
    "cnt = Counter(amount_k)\n",
    "# change the value for how many cities you want in your result\n",
    "print(cnt.most_common(22))"
   ]
  },
  {
   "cell_type": "code",
   "execution_count": 7,
   "metadata": {},
   "outputs": [],
   "source": [
    "output_file(\"data_table-killed.html\")\n",
    "\n",
    "data = dict(\n",
    "        peeps=['Count', 'Proportion', 'Percent'],\n",
    "        zero=['154752', '0,77530752', '77.530752%'],\n",
    "        one=['40399', '0,20239899', '20.239899%'],\n",
    "        two=['3798', '0,01902798', '1.902798%'],\n",
    "        three=['497', '0,00248997', '0.248997%'],\n",
    "        four=['106', '0,00053106', '0.053106%'],\n",
    "        five=['28', '0,00014028', '0.014028%'],\n",
    "        six=['7', '0,00003507', '0.003507%'],\n",
    "        seven=['1', '0,00000501', '0.000501%'],\n",
    "        eight=['5', '0,0000250501', '0.00250501%'],\n",
    "        nein=['2', '0,00001002', '0.001002%'],\n",
    "        ten=['1', '0,00000501', '0.000501%'],\n",
    "        sixten=['1', '0,00000501', '0.000501%'],\n",
    "        seventen=['1', '0,00000501', '0.000501%'],\n",
    "        seventwoten=['1', '0,00000501', '0.000501%'],\n",
    "        fiveten=['1', '0,00000501', '0.000501%'],\n",
    "        total=['199600', '1,00', '100%'],\n",
    "    )\n",
    "source = ColumnDataSource(data)\n",
    "\n",
    "columns = [\n",
    "        TableColumn(field=\"peeps\", title=\"Occurence of people killed\"),\n",
    "        TableColumn(field=\"zero\", title=\"0\"),\n",
    "        TableColumn(field=\"one\", title=\"1\"),\n",
    "        TableColumn(field=\"two\", title=\"2\"),\n",
    "        TableColumn(field=\"three\", title=\"3\"),\n",
    "        TableColumn(field=\"four\", title=\"4\"),\n",
    "        TableColumn(field=\"five\", title=\"5\"),\n",
    "        TableColumn(field=\"six\", title=\"6\"),\n",
    "        TableColumn(field=\"seven\", title=\"7\"),\n",
    "        TableColumn(field=\"eight\", title=\"8\"),\n",
    "        TableColumn(field=\"nein\", title=\"9\"),\n",
    "        TableColumn(field=\"ten\", title=\"10\"),\n",
    "        TableColumn(field=\"sixten\", title=\"16\"),\n",
    "        TableColumn(field=\"seventen\", title=\"17\"),\n",
    "        TableColumn(field=\"seventwoten\", title=\"27\"),\n",
    "        TableColumn(field=\"fiveten\", title=\"50\"),\n",
    "        TableColumn(field=\"total\", title=\"Total\"),\n",
    "    ]\n",
    "data_table = DataTable(source=source, columns=columns, width=2500, height=500)\n",
    "\n",
    "show(data_table)\n"
   ]
  },
  {
   "cell_type": "code",
   "execution_count": 6,
   "metadata": {},
   "outputs": [],
   "source": [
    "output_file(\"data_table-injured.html\")\n",
    "\n",
    "data = dict(\n",
    "        peeps=['Count', 'Proportion', 'Percent'],\n",
    "        zero=['117156', '0,586953908', '58.6953908%'],\n",
    "        one=['69721', '0,34930221', '34.930221%'],\n",
    "        two=['9722', '0,04870722', '4.870722%'],\n",
    "        three=['2078', '0,01041078', '1.041078%'],\n",
    "        four=['570', '0,0028557', '0.28557%'],\n",
    "        five=['193', '0,00096693', '0.096693%'],\n",
    "        six=['72', '0,00036072', '0.036072%'],\n",
    "        seven=['38', '0,00019038', '0.019038%'],\n",
    "        eight=['15', '0,00007515', '0.007515%'],\n",
    "        nein=['10', '0,0000501', '0.00501%'],\n",
    "        ten=['5', '0,00002505', '0.002505%'],\n",
    "        eleven=['3', '0,00001503', '0.001503%'],\n",
    "        twelve=['3', '0,00001503', '0.001503%'],\n",
    "        thirten=['1', '0,00000501', '0.000501%'],\n",
    "        fourten=['3', '0,00001503', '0.001503%'],\n",
    "        fiveten=['2', '0,00001002', '0.001002%'],\n",
    "        sixten=['1', '0,00000501', '0.000501%'],\n",
    "        seventen=['2', '0,00001002', '0.001002%'],\n",
    "        neinten=['2', '0,00001002', '0.001002%'],\n",
    "        twoten=['1', '0,00000501', '0.000501%'],\n",
    "        fivetwoten=['1', '0,00000501', '0.000501%'],\n",
    "        fivetenthree=['1', '0,00000501', '0.000501%'],\n",
    "        total=['199600', '1,00', '100%'],\n",
    "    )\n",
    "source = ColumnDataSource(data)\n",
    "\n",
    "columns = [\n",
    "        TableColumn(field=\"peeps\", title=\"Occurence of people killed\"),\n",
    "        TableColumn(field=\"zero\", title=\"0\"),\n",
    "        TableColumn(field=\"one\", title=\"1\"),\n",
    "        TableColumn(field=\"two\", title=\"2\"),\n",
    "        TableColumn(field=\"three\", title=\"3\"),\n",
    "        TableColumn(field=\"four\", title=\"4\"),\n",
    "        TableColumn(field=\"five\", title=\"5\"),\n",
    "        TableColumn(field=\"six\", title=\"6\"),\n",
    "        TableColumn(field=\"seven\", title=\"7\"),\n",
    "        TableColumn(field=\"eight\", title=\"8\"),\n",
    "        TableColumn(field=\"nein\", title=\"9\"),\n",
    "        TableColumn(field=\"ten\", title=\"10\"),\n",
    "        TableColumn(field=\"eleven\", title=\"11\"),\n",
    "        TableColumn(field=\"twelve\", title=\"12\"),\n",
    "        TableColumn(field=\"thirten\", title=\"13\"),\n",
    "        TableColumn(field=\"fourten\", title=\"14\"),\n",
    "        TableColumn(field=\"fiveten\", title=\"15\"),\n",
    "        TableColumn(field=\"sixten\", title=\"16\"),\n",
    "        TableColumn(field=\"seventen\", title=\"17\"),\n",
    "        TableColumn(field=\"neinten\", title=\"19\"),\n",
    "        TableColumn(field=\"twoten\", title=\"20\"),\n",
    "        TableColumn(field=\"fivetwoten\", title=\"25\"),\n",
    "        TableColumn(field=\"fivetenthree\", title=\"53\"),\n",
    "        TableColumn(field=\"total\", title=\"Total\"),\n",
    "    ]\n",
    "data_table = DataTable(source=source, columns=columns, width=2500, height=500)\n",
    "\n",
    "show(data_table)\n"
   ]
  },
  {
   "cell_type": "code",
   "execution_count": null,
   "metadata": {},
   "outputs": [],
   "source": []
  }
 ],
 "metadata": {
  "kernelspec": {
   "display_name": "Python 3",
   "language": "python",
   "name": "python3"
  },
  "language_info": {
   "codemirror_mode": {
    "name": "ipython",
    "version": 3
   },
   "file_extension": ".py",
   "mimetype": "text/x-python",
   "name": "python",
   "nbconvert_exporter": "python",
   "pygments_lexer": "ipython3",
   "version": "3.6.5"
  }
 },
 "nbformat": 4,
 "nbformat_minor": 2
}
