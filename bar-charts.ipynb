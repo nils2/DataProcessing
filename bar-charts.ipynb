{
 "cells": [
  {
   "cell_type": "code",
   "execution_count": 30,
   "metadata": {},
   "outputs": [],
   "source": [
    "# Load library\n",
    "import numpy as np\n",
    "import pandas as pd\n",
    "from collections import Counter\n",
    "\n",
    "from bokeh.io import show, output_file\n",
    "from bokeh.plotting import figure\n",
    "from bokeh.embed import components\n",
    "from bokeh.models import Axis\n",
    "from bokeh.palettes import Spectral3, Spectral4\n",
    "\n",
    "import csv"
   ]
  },
  {
   "cell_type": "code",
   "execution_count": 29,
   "metadata": {},
   "outputs": [
    {
     "name": "stderr",
     "output_type": "stream",
     "text": [
      "ERROR:bokeh.core.validation.check:E-1001 (BAD_COLUMN_NAME): Glyph refers to nonexistent column name: Spectral6 [renderer: GlyphRenderer(id='33ac7c1f-d30f-456c-ae70-2ee024ab0861', ...)]\n"
     ]
    }
   ],
   "source": [
    "df = pd.read_csv(\"datagun.csv\", sep=',')\n",
    "\n",
    "male = df['participant_gender'].str.count(\"Male\").sum()\n",
    "female = df['participant_gender'].str.count(\"Female\").sum()\n",
    "unknown = df['participant_gender'].str.count(\"Unknown\").sum()\n",
    "\n",
    "output_file(\"HTML/bars-gender.html\")\n",
    "\n",
    "guns = ['Unknown', 'Female', 'Male']\n",
    "\n",
    "p = figure(x_range=guns, plot_height=250, title=\"Amount of a gender involved in all violence\",\n",
    "           toolbar_location=None, tools=\"\")\n",
    "\n",
    "p.vbar(x=guns, top=[unknown, female, male], width=0.9, color=Spectral3)\n",
    "\n",
    "p.left[0].formatter.use_scientific = False\n",
    "p.xgrid.grid_line_color = None\n",
    "p.y_range.start = 0\n",
    "\n",
    "show(p)"
   ]
  },
  {
   "cell_type": "code",
   "execution_count": 33,
   "metadata": {},
   "outputs": [
    {
     "name": "stderr",
     "output_type": "stream",
     "text": [
      "ERROR:bokeh.core.validation.check:E-1001 (BAD_COLUMN_NAME): Glyph refers to nonexistent column name: Spectral6 [renderer: GlyphRenderer(id='33ac7c1f-d30f-456c-ae70-2ee024ab0861', ...)]\n"
     ]
    }
   ],
   "source": [
    "df = pd.read_csv(\"datagun.csv\", sep=',')\n",
    "\n",
    "male = df['participant_age_group'].str.count(\"Child\").sum()\n",
    "female = df['participant_age_group'].str.count(\"Teen\").sum()\n",
    "unknown = df['participant_age_group'].str.count(\"Adult\").sum()\n",
    "\n",
    "output_file(\"HTML/bars-agegroup.html\")\n",
    "\n",
    "guns = ['Adult', 'Teen', 'Child']\n",
    "\n",
    "p = figure(x_range=guns, plot_height=250, title=\"Age category people involved\",\n",
    "           toolbar_location=None, tools=\"\")\n",
    "\n",
    "p.vbar(x=guns, top=[unknown, female, male], width=0.9, color=Spectral3)\n",
    "\n",
    "p.left[0].formatter.use_scientific = False\n",
    "p.xgrid.grid_line_color = None\n",
    "p.y_range.start = 0\n",
    "\n",
    "show(p)"
   ]
  },
  {
   "cell_type": "code",
   "execution_count": 32,
   "metadata": {},
   "outputs": [
    {
     "name": "stderr",
     "output_type": "stream",
     "text": [
      "ERROR:bokeh.core.validation.check:E-1001 (BAD_COLUMN_NAME): Glyph refers to nonexistent column name: Spectral6 [renderer: GlyphRenderer(id='33ac7c1f-d30f-456c-ae70-2ee024ab0861', ...)]\n"
     ]
    }
   ],
   "source": [
    "df = pd.read_csv(\"datagun.csv\", sep=',')\n",
    "\n",
    "victim = df['participant_type'].str.count(\"Victim\").sum()\n",
    "suspect = df['participant_type'].str.count(\"Suspect\").sum()\n",
    "unknown = df['participant_type'].str.count(\"Unknown\").sum()\n",
    "\n",
    "output_file(\"HTML/bars-type.html\")\n",
    "\n",
    "guns = ['Unknown', 'Victim', 'Suspect']\n",
    "\n",
    "p = figure(x_range=guns, plot_height=250, title=\"Role the involved people had\",\n",
    "           toolbar_location=None, tools=\"\")\n",
    "\n",
    "p.vbar(x=guns, top=[unknown, victim, suspect], width=0.9, color=Spectral3)\n",
    "\n",
    "p.left[0].formatter.use_scientific = False\n",
    "p.xgrid.grid_line_color = None\n",
    "p.y_range.start = 0\n",
    "\n",
    "show(p)"
   ]
  },
  {
   "cell_type": "code",
   "execution_count": 31,
   "metadata": {},
   "outputs": [
    {
     "name": "stderr",
     "output_type": "stream",
     "text": [
      "ERROR:bokeh.core.validation.check:E-1001 (BAD_COLUMN_NAME): Glyph refers to nonexistent column name: Spectral6 [renderer: GlyphRenderer(id='33ac7c1f-d30f-456c-ae70-2ee024ab0861', ...)]\n"
     ]
    }
   ],
   "source": [
    "df = pd.read_csv(\"datagun.csv\", sep=',')\n",
    "\n",
    "injured = df['participant_status'].str.count(\"Injured\").sum()\n",
    "unharmed = df['participant_status'].str.count(\"Unharmed\").sum()\n",
    "unknown = df['participant_status'].str.count(\"Unknown\").sum()\n",
    "killed = df['participant_status'].str.count(\"Killed\").sum()\n",
    "\n",
    "output_file(\"HTML/bars-status.html\")\n",
    "\n",
    "guns = ['Unknown', 'Injured', 'Killed', 'Unharmed']\n",
    "\n",
    "p = figure(x_range=guns, plot_height=250, title=\"Reported state of people involved\",\n",
    "           toolbar_location=None, tools=\"\")\n",
    "\n",
    "p.vbar(x=guns, top=[unknown, injured, killed, unharmed], width=0.9, color=Spectral4)\n",
    "\n",
    "p.left[0].formatter.use_scientific = False\n",
    "p.xgrid.grid_line_color = None\n",
    "p.y_range.start = 0\n",
    "\n",
    "show(p)"
   ]
  }
 ],
 "metadata": {
  "kernelspec": {
   "display_name": "Python 3",
   "language": "python",
   "name": "python3"
  },
  "language_info": {
   "codemirror_mode": {
    "name": "ipython",
    "version": 3
   },
   "file_extension": ".py",
   "mimetype": "text/x-python",
   "name": "python",
   "nbconvert_exporter": "python",
   "pygments_lexer": "ipython3",
   "version": "3.6.5"
  }
 },
 "nbformat": 4,
 "nbformat_minor": 2
}
