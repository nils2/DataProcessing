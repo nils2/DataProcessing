{
 "cells": [
  {
   "cell_type": "markdown",
   "metadata": {},
   "source": [
    "This Notebook is used for the cleanup of our raw data"
   ]
  },
  {
   "cell_type": "code",
   "execution_count": null,
   "metadata": {},
   "outputs": [],
   "source": [
    "# Used to depict the data set\n",
    "\n",
    "# import csv\n",
    "# with open('datagun.csv', 'r') as f:\n",
    "#     reader = csv.reader(f)\n",
    "#     for row in reader:\n",
    "#         print(row)"
   ]
  },
  {
   "cell_type": "code",
   "execution_count": 4,
   "metadata": {},
   "outputs": [
    {
     "name": "stdout",
     "output_type": "stream",
     "text": [
      "-----------------\n",
      "0\n",
      "231123\n",
      "-----------------\n",
      "231123\n"
     ]
    }
   ],
   "source": [
    "# Used to count missing values for each column\n",
    "\n",
    "# import csv\n",
    "with open('../DATA/datagun.csv', 'r') as f:\n",
    "    reader = csv.reader(f)\n",
    "    counter = 0\n",
    "    counter2 = 0\n",
    "    for row in reader:\n",
    "        if row[16] ==  '':\n",
    "            counter = counter + 1\n",
    "        else:\n",
    "            counter2 = counter2 + 1\n",
    "    print(\"-----------------\")\n",
    "    print(counter)\n",
    "    print(counter2)\n",
    "    print(\"-----------------\")\n",
    "    print(counter + counter2)"
   ]
  },
  {
   "cell_type": "code",
   "execution_count": null,
   "metadata": {},
   "outputs": [],
   "source": [
    "# Used to replace date table into 3 tables: day, month, year\n",
    "\n",
    "# import csv\n",
    "\n",
    "listname_accept = '../DATA/datagun.csv'\n",
    "\n",
    "with open('../DATA/stage3.csv', 'r') as oldfile, open(listname_accept,'w') as cleaned:\n",
    "    accept_writer=csv.writer(cleaned) # create one csv writer object\n",
    "    initial_reader=csv.reader(oldfile)\n",
    "    for c,row in enumerate(initial_reader): # read through input csv\n",
    "        if c==0:                            # first row is the header\n",
    "            header=row[:]\n",
    "            del header[1]       # delete 'date'\n",
    "            header[1:1]=['day','month','year'] # insert these column names\n",
    "            accept_writer.writerow(header)                  # write column names to csv\n",
    "        else:                                               # for all other input rows, except the first\n",
    "            date_list=[i.strip() for i in row[1].split('/')] # split the date by slash\n",
    "            del row[1]                                             # delete original string date from row\n",
    "            row[1:1]=date_list                                  # insert new dates\n",
    "            accept_writer.writerow(row)\n",
    "            \n",
    "# the code above was used to clean the dataset"
   ]
  },
  {
   "cell_type": "code",
   "execution_count": 3,
   "metadata": {},
   "outputs": [
    {
     "name": "stdout",
     "output_type": "stream",
     "text": [
      "24290\n",
      "206833\n"
     ]
    }
   ],
   "source": [
    "# Used to insert missing values\n",
    "\n",
    "# import csv\n",
    "# import numpy as np\n",
    "\n",
    "listname_accept = '../DATA/datagun.csv'\n",
    "\n",
    "with open('../DATA/datagun2.csv') as file, open(listname_accept, 'w') as cleaned:\n",
    "    new_file= csv.writer(cleaned)\n",
    "    old_file= csv.reader(file)\n",
    "    counter = 0\n",
    "    counter2 = 0\n",
    "    for c,row in enumerate(old_file):\n",
    "        if c==0:\n",
    "            counter2 = counter2 + 1\n",
    "            header = row[:]\n",
    "            new_file.writerow(header)\n",
    "        else:\n",
    "            if row[16] == '':\n",
    "                counter = counter + 1\n",
    "                row[16]='Unknown'\n",
    "                new_file.writerow(row)\n",
    "            else:\n",
    "                counter2 = counter2 + 1\n",
    "                new_file.writerow(row)\n",
    "\n",
    "    print(counter)\n",
    "    print(counter2)\n",
    "# this code was used to check the correct amount of missing values was changed\n",
    "# and this code made a new file to alter it into"
   ]
  },
  {
   "cell_type": "code",
   "execution_count": null,
   "metadata": {},
   "outputs": [],
   "source": [
    "# Used to drop columns\n",
    "# import pandas as pd\n",
    "\n",
    "df = pd.read_csv('../DATA/datagun.csv')\n",
    "\n",
    "df2= df.drop(['state_house_district', 'state_senate_district', 'congressional_district', 'participant_age'], axis=1)\n",
    "\n",
    "df2.to_csv('../DATA/datagun.csv', sep=',', index=False)"
   ]
  },
  {
   "cell_type": "code",
   "execution_count": 6,
   "metadata": {},
   "outputs": [],
   "source": [
    "# Code used to make a json file for google maps api\n",
    "\n",
    "# import pandas as pd\n",
    "\n",
    "df = pd.read_csv('../DATA/datagun.csv')\n",
    "\n",
    "df2 = df.drop(['day', 'month', 'year', 'state', 'city_or_county', 'n_killed', 'n_injured', 'incident_characteristics',\n",
    "              'n_guns_involved', 'participant_age_group', 'participant_gender', 'participant_relationship', 'participant_status', 'participant_type'], axis=1)\n",
    "\n",
    "two = df2.to_dict('records')\n",
    "\n",
    "# import json\n",
    "# with open('../DATA/data.json', 'w') as fp:\n",
    "#     json.dump(two, fp)\n"
   ]
  }
 ],
 "metadata": {
  "kernelspec": {
   "display_name": "Python 3",
   "language": "python",
   "name": "python3"
  },
  "language_info": {
   "codemirror_mode": {
    "name": "ipython",
    "version": 3
   },
   "file_extension": ".py",
   "mimetype": "text/x-python",
   "name": "python",
   "nbconvert_exporter": "python",
   "pygments_lexer": "ipython3",
   "version": "3.6.5"
  }
 },
 "nbformat": 4,
 "nbformat_minor": 2
}
