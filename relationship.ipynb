{
 "cells": [
  {
   "cell_type": "code",
   "execution_count": null,
   "metadata": {},
   "outputs": [],
   "source": [
    "# Load library\n",
    "import numpy as np\n",
    "import pandas as pd\n",
    "from collections import Counter\n",
    "\n",
    "from bokeh.io import show, output_file\n",
    "from bokeh.plotting import figure\n",
    "\n",
    "import csv"
   ]
  },
  {
   "cell_type": "code",
   "execution_count": null,
   "metadata": {},
   "outputs": [],
   "source": [
    "df = pd.read_csv(\"datagun.csv\")\n",
    "\n",
    "amount_k = []\n",
    "# appends all the cities in dataset to list\n",
    "for amount in df['participant_relationship']:\n",
    "    amount = str(amount)\n",
    "    amount_k.append(amount)\n",
    "cnt = Counter(amount_k)"
   ]
  },
  {
   "cell_type": "code",
   "execution_count": null,
   "metadata": {},
   "outputs": [],
   "source": [
    "df = pd.read_csv(\"datagun.csv\", sep=',')\n",
    "\n",
    "gang = df['participant_relationship'].str.count(\"Gang vs Gang\").sum()\n",
    "friends = df['participant_relationship'].str.count(\"Friends\").sum()\n",
    "unknown = df['participant_relationship'].str.count(\"Unknown\").sum()\n",
    "lovers = df['participant_relationship'].str.count(\"Significant others\").sum()\n",
    "family = df['participant_relationship'].str.count(\"Family\").sum()\n",
    "\n",
    "output_file(\"bars-relationship.html\")\n",
    "\n",
    "guns = ['Unknown', 'Gang', 'Friends', 'Family', 'Lovers/Ex']\n",
    "\n",
    "p = figure(x_range=guns, plot_height=250, title=\"Relationship people involved\",\n",
    "           toolbar_location=None, tools=\"\")\n",
    "\n",
    "p.vbar(x=guns, top=[unknown, gang, friends, family, lovers], width=0.9)\n",
    "\n",
    "p.xgrid.grid_line_color = None\n",
    "p.y_range.start = 0\n",
    "\n",
    "show(p)"
   ]
  }
 ],
 "metadata": {
  "kernelspec": {
   "display_name": "Python 3",
   "language": "python",
   "name": "python3"
  },
  "language_info": {
   "codemirror_mode": {
    "name": "ipython",
    "version": 3
   },
   "file_extension": ".py",
   "mimetype": "text/x-python",
   "name": "python",
   "nbconvert_exporter": "python",
   "pygments_lexer": "ipython3",
   "version": "3.6.5"
  }
 },
 "nbformat": 4,
 "nbformat_minor": 2
}
