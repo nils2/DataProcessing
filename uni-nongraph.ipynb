{
 "cells": [
  {
   "cell_type": "code",
   "execution_count": 17,
   "metadata": {},
   "outputs": [],
   "source": [
    "# Load library\n",
    "import numpy as np\n",
    "import pandas as pd\n",
    "\n",
    "from bokeh.plotting import figure\n",
    "from bokeh.io import output_file, show\n",
    "from bokeh.models.widgets import DataTable, TableColumn\n",
    "from bokeh.models import ColumnDataSource\n",
    "\n",
    "import csv"
   ]
  },
  {
   "cell_type": "code",
   "execution_count": 7,
   "metadata": {},
   "outputs": [
    {
     "name": "stdout",
     "output_type": "stream",
     "text": [
      "['0', '1', '10', '16', '17', '2', '27', '3', '4', '5', '50', '6', '7', '8', '9']\n",
      "---------------------------------------------------------------------------------------------------------\n",
      "15\n"
     ]
    }
   ],
   "source": [
    "reader = pd.read_csv('datagun.csv')\n",
    "amount_l = []\n",
    "for amount in reader['n_killed']:\n",
    "    amount = str(amount)\n",
    "    amount_l.append(amount)\n",
    "remove = list(set(amount_l))\n",
    "# sorts the cities in alphabetical order \n",
    "remove.sort()\n",
    "print(remove)\n",
    "print('---------------------------------------------------------------------------------------------------------')\n",
    "# prints how many different cities are in the list\n",
    "print(len(remove))"
   ]
  },
  {
   "cell_type": "code",
   "execution_count": 15,
   "metadata": {},
   "outputs": [
    {
     "name": "stdout",
     "output_type": "stream",
     "text": [
      "[('0', 154752), ('1', 40399), ('2', 3798), ('3', 497), ('4', 106), ('5', 28), ('6', 7), ('8', 5), ('9', 2), ('7', 1), ('10', 1), ('16', 1), ('50', 1), ('27', 1), ('17', 1)]\n"
     ]
    }
   ],
   "source": [
    "from collections import Counter\n",
    "# used a shortened dataset, replace 'stage3test.csv' for the big dataset\n",
    "reader = pd.read_csv('datagun.csv')\n",
    "amount_k = []\n",
    "# appends all the cities in dataset to list\n",
    "for amount in reader['n_killed']:\n",
    "    amount = str(amount)\n",
    "    amount_k.append(amount)\n",
    "cnt = Counter(amount_k)\n",
    "# change the value for how many cities you want in your result\n",
    "print(cnt.most_common(15))"
   ]
  },
  {
   "cell_type": "code",
   "execution_count": 20,
   "metadata": {},
   "outputs": [],
   "source": [
    "output_file(\"data_table.html\")\n",
    "\n",
    "data = dict(\n",
    "        peeps=['Count', 'Proportion', 'Percent'],\n",
    "        zero=['154752', '0,77530752', '77.530752%'],\n",
    "        one=['40399', '0,20239899', '20.239899%'],\n",
    "        two=['3798', '0,01902798', '1.902798%'],\n",
    "        three=['497', '0,00248997', '0.248997%'],\n",
    "        four=['106', '0,00053106', '0.053106%'],\n",
    "        five=['28', '0,00014028', '0.014028%'],\n",
    "        six=['7', '0,00003507', '0.003507%'],\n",
    "        seven=['1', '0,00000501', '0.000501%'],\n",
    "        eight=['5', '0,0000250501', '0.00250501%'],\n",
    "        nein=['2', '0,00001002', '0.001002%'],\n",
    "        ten=['1', '0,00000501', '0.000501%'],\n",
    "        sixten=['1', '0,00000501', '0.000501%'],\n",
    "        seventen=['1', '0,00000501', '0.000501%'],\n",
    "        seventwoten=['1', '0,00000501', '0.000501%'],\n",
    "        fiveten=['1', '0,00000501', '0.000501%'],\n",
    "        total=['199600', '1,00', '100%'],\n",
    "    )\n",
    "source = ColumnDataSource(data)\n",
    "\n",
    "columns = [\n",
    "        TableColumn(field=\"peeps\", title=\"Occurence of people killed\"),\n",
    "        TableColumn(field=\"zero\", title=\"0\"),\n",
    "        TableColumn(field=\"one\", title=\"1\"),\n",
    "        TableColumn(field=\"two\", title=\"2\"),\n",
    "        TableColumn(field=\"three\", title=\"3\"),\n",
    "        TableColumn(field=\"four\", title=\"4\"),\n",
    "        TableColumn(field=\"five\", title=\"5\"),\n",
    "        TableColumn(field=\"six\", title=\"6\"),\n",
    "        TableColumn(field=\"seven\", title=\"7\"),\n",
    "        TableColumn(field=\"eight\", title=\"8\"),\n",
    "        TableColumn(field=\"nein\", title=\"9\"),\n",
    "        TableColumn(field=\"ten\", title=\"10\"),\n",
    "        TableColumn(field=\"sixten\", title=\"16\"),\n",
    "        TableColumn(field=\"seventen\", title=\"17\"),\n",
    "        TableColumn(field=\"seventwoten\", title=\"27\"),\n",
    "        TableColumn(field=\"fiveten\", title=\"50\"),\n",
    "        TableColumn(field=\"total\", title=\"Total\"),\n",
    "    ]\n",
    "data_table = DataTable(source=source, columns=columns, width=2500, height=500)\n",
    "\n",
    "show(data_table)\n"
   ]
  },
  {
   "cell_type": "code",
   "execution_count": null,
   "metadata": {},
   "outputs": [],
   "source": []
  }
 ],
 "metadata": {
  "kernelspec": {
   "display_name": "Python 3",
   "language": "python",
   "name": "python3"
  },
  "language_info": {
   "codemirror_mode": {
    "name": "ipython",
    "version": 3
   },
   "file_extension": ".py",
   "mimetype": "text/x-python",
   "name": "python",
   "nbconvert_exporter": "python",
   "pygments_lexer": "ipython3",
   "version": "3.6.5"
  }
 },
 "nbformat": 4,
 "nbformat_minor": 2
}
